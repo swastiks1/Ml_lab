{
 "cells": [
  {
   "cell_type": "code",
   "execution_count": 2,
   "id": "26277d36-b090-4000-a07d-57e0bac0fd42",
   "metadata": {},
   "outputs": [
    {
     "data": {
      "text/plain": [
       "array([[ 1.1437378 , -1.56653111,  1.35078001],\n",
       "       [ 1.2087897 , -0.97624685, -0.18608491]])"
      ]
     },
     "execution_count": 2,
     "metadata": {},
     "output_type": "execute_result"
    }
   ],
   "source": [
    "import numpy as np\n",
    "import pandas as pd\n",
    "\n",
    "np.random.randn(2,3)"
   ]
  },
  {
   "cell_type": "raw",
   "id": "573eb3c6-6be3-484c-9ba1-6a63e18e724b",
   "metadata": {},
   "source": [
    "url = \"https://raw.githubusercontent.com/GokuMohandas/Made-\n",
    "With-ML/main/datasets/titanic.csv\"\n",
    "df = pd.read_csv(url,header=0)\n",
    "df.head(3)"
   ]
  },
  {
   "cell_type": "code",
   "execution_count": 8,
   "id": "1c42094e-d6f1-4ca7-bcba-5065cd82ec0b",
   "metadata": {},
   "outputs": [
    {
     "name": "stdout",
     "output_type": "stream",
     "text": [
      "[1 2 3 4]\n"
     ]
    }
   ],
   "source": [
    "a=np.array((1,2,3,4))\n",
    "type(a)\n",
    "print(a)\n"
   ]
  },
  {
   "cell_type": "code",
   "execution_count": 17,
   "id": "9d6f13bb-37bf-4e6d-a427-9fca9aa4a9d6",
   "metadata": {},
   "outputs": [
    {
     "name": "stdout",
     "output_type": "stream",
     "text": [
      "2\n",
      "(2, 2)\n",
      "2\n"
     ]
    }
   ],
   "source": [
    "b=np.array([[1,2],[2,3]])\n",
    "print(b.ndim)\n",
    "print(b.shape)\n",
    "print(b[1,0])"
   ]
  },
  {
   "cell_type": "code",
   "execution_count": null,
   "id": "d09d214e-157e-4b8f-9b71-1a39545ef880",
   "metadata": {},
   "outputs": [],
   "source": []
  }
 ],
 "metadata": {
  "kernelspec": {
   "display_name": "Python 3 (ipykernel)",
   "language": "python",
   "name": "python3"
  },
  "language_info": {
   "codemirror_mode": {
    "name": "ipython",
    "version": 3
   },
   "file_extension": ".py",
   "mimetype": "text/x-python",
   "name": "python",
   "nbconvert_exporter": "python",
   "pygments_lexer": "ipython3",
   "version": "3.11.8"
  }
 },
 "nbformat": 4,
 "nbformat_minor": 5
}
